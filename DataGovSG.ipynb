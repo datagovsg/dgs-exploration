{
  "nbformat": 4,
  "nbformat_minor": 0,
  "metadata": {
    "colab": {
      "provenance": []
    },
    "kernelspec": {
      "name": "python3",
      "display_name": "Python 3"
    },
    "language_info": {
      "name": "python"
    }
  },
  "cells": [
    {
      "cell_type": "code",
      "execution_count": 2,
      "metadata": {
        "id": "5z893zILP_4T"
      },
      "outputs": [],
      "source": [
        "DATASET_ID = \"d_11e68bba3b3c76733475a72d09759eeb\""
      ]
    },
    {
      "cell_type": "markdown",
      "source": [
        "## Download File"
      ],
      "metadata": {
        "id": "bzeyNVeETY7O"
      }
    },
    {
      "cell_type": "code",
      "source": [
        "import requests\n",
        "\n",
        "base_url = \"https://api-production.data.gov.sg\"\n",
        "download_url = base_url + f\"/v1/internal/api/datasets/{DATASET_ID}/initiate-download\"\n",
        "print(download_url)\n",
        "response = requests.get(download_url)\n",
        "print(response)\n",
        "\n",
        "# const response = await fetch('/v1/public/api/datasets/{datasetId}/initiate-download', {"
      ],
      "metadata": {
        "colab": {
          "base_uri": "https://localhost:8080/"
        },
        "id": "v0Y-ZksGR38B",
        "outputId": "81433712-e9dc-4b01-ab26-3534f0974ea4"
      },
      "execution_count": 7,
      "outputs": [
        {
          "output_type": "stream",
          "name": "stdout",
          "text": [
            "https://api-production.data.gov.sg/v1/internal/api/datasets/d_11e68bba3b3c76733475a72d09759eeb/initiate-download\n",
            "<Response [403]>\n"
          ]
        }
      ]
    },
    {
      "cell_type": "code",
      "source": [
        "import requests\n",
        "\n",
        "base_url = \"https://api-production.data.gov.sg\"\n",
        "url = base_url + f\"/v2/public/api/datasets/{DATASET_ID}/metadata\"\n",
        "print(url)\n",
        "response = requests.get(url)\n",
        "print(json.dumps(response.json(), indent=2))\n",
        "\n"
      ],
      "metadata": {
        "colab": {
          "base_uri": "https://localhost:8080/"
        },
        "outputId": "b229c8a9-7102-4bc1-f41e-16ae42b960c3",
        "id": "MmxOw9YXTWXI"
      },
      "execution_count": null,
      "outputs": [
        {
          "output_type": "stream",
          "name": "stdout",
          "text": [
            "https://api-production.data.gov.sg/v2/public/api/datasets/d_11e68bba3b3c76733475a72d09759eeb/metadata\n",
            "{\n",
            "  \"code\": 0,\n",
            "  \"data\": {\n",
            "    \"datasetId\": \"d_11e68bba3b3c76733475a72d09759eeb\",\n",
            "    \"createdAt\": \"2023-02-12T12:04:01+08:00\",\n",
            "    \"name\": \"Number of COVID-19 infections by Epi-week\",\n",
            "    \"collectionIds\": [\n",
            "      \"522\"\n",
            "    ],\n",
            "    \"format\": \"CSV\",\n",
            "    \"lastUpdatedAt\": \"2024-06-06T15:18:22+08:00\",\n",
            "    \"managedBy\": \"Ministry of Health\",\n",
            "    \"coverageStart\": \"2023-01-01T08:00:00+08:00\",\n",
            "    \"coverageEnd\": \"2024-01-01T08:00:00+08:00\",\n",
            "    \"contactEmails\": [\n",
            "      \"moh_singapore@moh.gov.sg\"\n",
            "    ],\n",
            "    \"coverageDateColumnId\": null,\n",
            "    \"datasetSize\": \"995\",\n",
            "    \"columnMetadata\": {\n",
            "      \"order\": [\n",
            "        \"c_whbi77ois6923i98hazhirl7\",\n",
            "        \"c_crei2abnmbff1m9w79sweskph\",\n",
            "        \"c_5vk2yvrq79m7tmlwxyn42jn8s\"\n",
            "      ],\n",
            "      \"map\": {\n",
            "        \"c_whbi77ois6923i98hazhirl7\": \"epi_year\",\n",
            "        \"c_crei2abnmbff1m9w79sweskph\": \"epi_week\",\n",
            "        \"c_5vk2yvrq79m7tmlwxyn42jn8s\": \"est_count\"\n",
            "      },\n",
            "      \"metaMapping\": {\n",
            "        \"c_whbi77ois6923i98hazhirl7\": {\n",
            "          \"name\": \"epi_year\",\n",
            "          \"columnTitle\": \"Epi Year\",\n",
            "          \"dataType\": \"Year (YYYY)\",\n",
            "          \"index\": \"0\",\n",
            "          \"numNull\": 0,\n",
            "          \"isCategorical\": true,\n",
            "          \"valueCounter\": {\n",
            "            \"2023\": 44,\n",
            "            \"2024\": 8\n",
            "          }\n",
            "        },\n",
            "        \"c_crei2abnmbff1m9w79sweskph\": {\n",
            "          \"name\": \"epi_week\",\n",
            "          \"columnTitle\": \"Epi Week\",\n",
            "          \"dataType\": \"Text\",\n",
            "          \"index\": \"1\",\n",
            "          \"numNull\": 0,\n",
            "          \"isCategorical\": false\n",
            "        },\n",
            "        \"c_5vk2yvrq79m7tmlwxyn42jn8s\": {\n",
            "          \"name\": \"est_count\",\n",
            "          \"columnTitle\": \"Est Count\",\n",
            "          \"dataType\": \"Numeric\",\n",
            "          \"index\": \"2\",\n",
            "          \"numNull\": 0,\n",
            "          \"isCategorical\": false\n",
            "        }\n",
            "      }\n",
            "    }\n",
            "  },\n",
            "  \"errorMsg\": \"\"\n",
            "}\n"
          ]
        }
      ]
    },
    {
      "cell_type": "code",
      "source": [],
      "metadata": {
        "id": "ph92gVyXRbv9"
      },
      "execution_count": null,
      "outputs": []
    }
  ]
}